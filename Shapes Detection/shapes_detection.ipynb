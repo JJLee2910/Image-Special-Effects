{
 "cells": [
  {
   "cell_type": "code",
   "execution_count": 1,
   "metadata": {},
   "outputs": [],
   "source": [
    "import cv2\n",
    "import numpy as np"
   ]
  },
  {
   "cell_type": "code",
   "execution_count": 5,
   "metadata": {},
   "outputs": [
    {
     "name": "stdout",
     "output_type": "stream",
     "text": [
      "Emergency Triangle Stop was detected, please slow down!\n",
      "Shapes is undeteced\n"
     ]
    }
   ],
   "source": [
    "class ShapeDetector:\n",
    "    def __init__(self, image_path):\n",
    "        self.image = cv2.imread(image_path)\n",
    "        # self.image = cv2.resize(self.image, (1500, 800))\n",
    "        self.gray = None\n",
    "        self.thresh = None\n",
    "        self.canny = None\n",
    "        self.contours = None\n",
    "        self.new_img = None\n",
    "\n",
    "    def preprocess(self):\n",
    "        self.gray = cv2.cvtColor(self.image, cv2.COLOR_BGR2GRAY)\n",
    "        self.gray = cv2.GaussianBlur(self.gray, (5, 5), 0)\n",
    "        self.thresh = cv2.threshold(self.gray, 200, 255, cv2.THRESH_BINARY)[1]\n",
    "        kernel = cv2.getStructuringElement(cv2.MORPH_RECT, (3, 3))\n",
    "        self.thresh = cv2.morphologyEx(self.thresh, cv2.MORPH_CLOSE, kernel)\n",
    "        self.canny = cv2.Canny(self.thresh, 150, 200)\n",
    "\n",
    "    def detect_shapes(self):\n",
    "        self.preprocess()\n",
    "        self.contours, hierarchy = cv2.findContours(self.canny, cv2.RETR_EXTERNAL, cv2.CHAIN_APPROX_NONE)\n",
    "        self.new_img = self.image.copy()\n",
    "        for cnt in self.contours:\n",
    "            cv2.drawContours(self.new_img, cnt, -1, (255, 255, 0), 2)\n",
    "            area = cv2.contourArea(cnt)\n",
    "            if area > 500:\n",
    "                peri = cv2.arcLength(cnt, True)\n",
    "                vertices = cv2.approxPolyDP(cnt, peri * 0.02, True)\n",
    "                corners = len(vertices)\n",
    "                x, y, w, h = cv2.boundingRect(vertices)\n",
    "                cv2.rectangle(self.new_img, (x, y), (x + w, y + h), (0, 255, 255), 2)\n",
    "                if corners == 3:\n",
    "                    cv2.putText(self.new_img, \"Triangle\", (x, y - 5), cv2.FONT_HERSHEY_SIMPLEX, 1, (0, 0, 255), 2)\n",
    "                    print(\"Emergency Triangle Stop was detected, please slow down!\")\n",
    "                elif corners == 4:\n",
    "                    cv2.putText(self.new_img, \"Rectangle\", (x, y - 5), cv2.FONT_HERSHEY_SIMPLEX, 1, (0, 0, 255), 2)\n",
    "                elif corners == 5:\n",
    "                    cv2.putText(self.new_img, \"Pentagon\", (x, y - 5), cv2.FONT_HERSHEY_SIMPLEX, 1, (0, 0, 255), 2)\n",
    "                elif corners >= 6:\n",
    "                    cv2.putText(self.new_img, \"Circle\", (x, y - 5), cv2.FONT_HERSHEY_SIMPLEX, 1, (0, 0, 255), 2)\n",
    "        else:\n",
    "            print(\"Shapes is undeteced\")\n",
    "\n",
    "    def show_images(self):\n",
    "        cv2.imshow(\"Image\", self.image)\n",
    "        cv2.imshow(\"Threshold\", self.thresh)\n",
    "        cv2.imshow(\"Canny Image\", self.canny)\n",
    "        cv2.imshow(\"Contour Image\", self.new_img)\n",
    "        cv2.waitKey(0)\n",
    "\n",
    "\n",
    "if __name__ == \"__main__\":\n",
    "    detector = ShapeDetector(\"shapes_image/shapes.jpg\")\n",
    "    detector.detect_shapes()\n",
    "    detector.show_images()\n"
   ]
  }
 ],
 "metadata": {
  "kernelspec": {
   "display_name": "JJ",
   "language": "python",
   "name": "python3"
  },
  "language_info": {
   "codemirror_mode": {
    "name": "ipython",
    "version": 3
   },
   "file_extension": ".py",
   "mimetype": "text/x-python",
   "name": "python",
   "nbconvert_exporter": "python",
   "pygments_lexer": "ipython3",
   "version": "3.10.6"
  },
  "orig_nbformat": 4
 },
 "nbformat": 4,
 "nbformat_minor": 2
}
