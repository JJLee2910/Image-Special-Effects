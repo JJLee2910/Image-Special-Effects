{
 "cells": [
  {
   "cell_type": "code",
   "execution_count": 1,
   "metadata": {},
   "outputs": [],
   "source": [
    "import cv2"
   ]
  },
  {
   "cell_type": "code",
   "execution_count": 2,
   "metadata": {},
   "outputs": [
    {
     "name": "stdout",
     "output_type": "stream",
     "text": [
      "Eyes opened:  8\n",
      "Please ensure the driver seats is only seated by driver\n"
     ]
    },
    {
     "data": {
      "text/plain": [
       "-1"
      ]
     },
     "execution_count": 2,
     "metadata": {},
     "output_type": "execute_result"
    }
   ],
   "source": [
    "img = cv2.imread(\"eye_image/group_eyes.jpg\")\n",
    "new_img = cv2.resize(img, (700,600))\n",
    "gray = cv2.cvtColor(new_img, cv2.COLOR_BGR2GRAY)\n",
    "gray = cv2.equalizeHist(gray)\n",
    "gray = cv2.GaussianBlur(gray, (5,5), 0)\n",
    "faceCascade = cv2.CascadeClassifier(\"eyes_detect.xml\")\n",
    "faceRect = faceCascade.detectMultiScale(new_img, 1.1, 3)\n",
    "\n",
    "\n",
    "for (x, y, w, h) in faceRect:\n",
    "    cv2.rectangle(new_img, (x,y), (x + w, y + h), (255,0,0), 2)\n",
    "print( \"Eyes opened: \",len(faceRect))\n",
    "\n",
    "if len(faceRect) >2:\n",
    "    print(\"Please ensure the driver seats is only seated by driver\")\n",
    "elif len(faceRect) <2:\n",
    "    print(\"Please focus on the road!\")\n",
    "else:\n",
    "    print(\"Driver is focusing\")\n",
    "\n",
    "text = f'Eyes detected: {len(faceRect)}'\n",
    "cv2.putText(new_img, text, (10, 30), cv2.FONT_HERSHEY_SIMPLEX, 1, (0, 0, 255), 2, cv2.LINE_AA)\n",
    "\n",
    "cv2.imshow(\"Eyes Detection\", new_img)\n",
    "cv2.waitKey(0)"
   ]
  }
 ],
 "metadata": {
  "kernelspec": {
   "display_name": "JJ",
   "language": "python",
   "name": "python3"
  },
  "language_info": {
   "codemirror_mode": {
    "name": "ipython",
    "version": 3
   },
   "file_extension": ".py",
   "mimetype": "text/x-python",
   "name": "python",
   "nbconvert_exporter": "python",
   "pygments_lexer": "ipython3",
   "version": "3.10.6"
  },
  "orig_nbformat": 4
 },
 "nbformat": 4,
 "nbformat_minor": 2
}
